{
 "cells": [
  {
   "cell_type": "markdown",
   "id": "7ad86fbc",
   "metadata": {},
   "source": [
    "<h1> belajar python</h1><hr>\n",
    "     "
   ]
  },
  {
   "cell_type": "markdown",
   "id": "36bdaffc",
   "metadata": {},
   "source": [
    "<p> beberapa aturan variabel di python: <p>\n",
    "    <ol>\n",
    "        <li>bersifat case sensitif => A </li>\n",
    "        <li>harus rajin belajar</li>\n",
    "     </ol>"
   ]
  },
  {
   "cell_type": "code",
   "execution_count": 31,
   "id": "6a3fcc30",
   "metadata": {},
   "outputs": [
    {
     "name": "stdout",
     "output_type": "stream",
     "text": [
      "False\n",
      "A\n"
     ]
    }
   ],
   "source": [
    "data_int = 10\n",
    "data_float = 11,2\n",
    "data_bool = False\n",
    "data_String = \"A\"\n",
    "\n",
    "print(data_bool)\n",
    "data_bool\n",
    "print(data_String)"
   ]
  },
  {
   "cell_type": "markdown",
   "id": "9f734956",
   "metadata": {},
   "source": [
    "untuk mengetahui tipe data dari sebuah tipe variabel gunakan command <b>type</b>"
   ]
  },
  {
   "cell_type": "code",
   "execution_count": 20,
   "id": "4a9715e7",
   "metadata": {},
   "outputs": [
    {
     "name": "stdout",
     "output_type": "stream",
     "text": [
      "<class 'int'>\n"
     ]
    }
   ],
   "source": [
    "print(type(data_int))"
   ]
  },
  {
   "cell_type": "markdown",
   "id": "c4dfaffb",
   "metadata": {},
   "source": [
    "pada python terdapat proses <b>CASTING</b> konversi dari sebuah tipe data ke tipe data lain yaitu denag sintaks<b>tipe_data(nama_variabel)</b>"
   ]
  },
  {
   "cell_type": "code",
   "execution_count": 44,
   "id": "ba4aebe2",
   "metadata": {},
   "outputs": [
    {
     "name": "stdout",
     "output_type": "stream",
     "text": [
      "nilai varibel data_bool= False\n",
      "False\n"
     ]
    },
    {
     "data": {
      "text/plain": [
       "'False'"
      ]
     },
     "execution_count": 44,
     "metadata": {},
     "output_type": "execute_result"
    }
   ],
   "source": [
    "bool_to_String = str(data_bool)\n",
    "bool_to_int = int(data_bool)\n",
    "print(\"nilai varibel data_bool=\",data_bool)\n",
    "print(bool_to_String)\n",
    "bool_to_String"
   ]
  },
  {
   "cell_type": "code",
   "execution_count": 49,
   "id": "60bd6c13",
   "metadata": {},
   "outputs": [
    {
     "name": "stdout",
     "output_type": "stream",
     "text": [
      "masukan angka : 3\n",
      "masukan angka : 3\n",
      "masukan angka : 5\n",
      "= 5\n"
     ]
    }
   ],
   "source": [
    "bilangan1 = int(input(\"masukan angka : \"))\n",
    "bilangan2 = int(input(\"masukan angka : \"))\n",
    "bilangan3 = int(input(\"masukan angka : \"))\n",
    "hasil = bilangan1 - bilangan2 + bilangan3\n",
    "\n",
    "print(\"=\",hasil)"
   ]
  }
 ],
 "metadata": {
  "kernelspec": {
   "display_name": "Python 3 (ipykernel)",
   "language": "python",
   "name": "python3"
  },
  "language_info": {
   "codemirror_mode": {
    "name": "ipython",
    "version": 3
   },
   "file_extension": ".py",
   "mimetype": "text/x-python",
   "name": "python",
   "nbconvert_exporter": "python",
   "pygments_lexer": "ipython3",
   "version": "3.9.12"
  }
 },
 "nbformat": 4,
 "nbformat_minor": 5
}
